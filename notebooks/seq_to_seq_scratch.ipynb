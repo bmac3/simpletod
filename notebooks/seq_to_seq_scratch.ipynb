{
 "cells": [
  {
   "cell_type": "code",
   "execution_count": 156,
   "id": "e6720d30-82e7-45c6-839f-a8342b3a0c12",
   "metadata": {},
   "outputs": [],
   "source": [
    "import random\n",
    "\n",
    "import numpy as np\n",
    "import pandas as pd\n",
    "import torch\n",
    "from torch import nn, optim\n",
    "from torch.nn import functional as F\n",
    "\n",
    "MAX_LENGTH = 1024\n",
    "INPUT_SOS = '<|context|>'\n",
    "INPUT_EOS = '<|endofcontext|>'\n",
    "OUTPUT_SOS = '<|belief|>'\n",
    "OUTPUT_EOS = '<|endofbelief|>'"
   ]
  },
  {
   "cell_type": "code",
   "execution_count": 132,
   "id": "fe0a3166-9a67-48b7-b311-7688161c86c9",
   "metadata": {},
   "outputs": [],
   "source": [
    "with open('../resources/gpt2/train.history_belief') as fp:\n",
    "    raw_train_text = fp.read()"
   ]
  },
  {
   "cell_type": "code",
   "execution_count": 133,
   "id": "add0dce6-cba5-43fc-af2b-cf3e0392fd6d",
   "metadata": {},
   "outputs": [],
   "source": [
    "raw_train_text = raw_train_text.replace('<|endofcontext|>', ' <|endofcontext|>')\n",
    "raw_train_text = raw_train_text.replace('<|endoftext|>', '')"
   ]
  },
  {
   "cell_type": "code",
   "execution_count": 134,
   "id": "092b364f-ba75-41ba-ab78-af439c17d9be",
   "metadata": {},
   "outputs": [],
   "source": [
    "train_text = raw_train_text.split('\\n')"
   ]
  },
  {
   "cell_type": "code",
   "execution_count": 135,
   "id": "88dcbcf5-e381-4aaa-9578-b52f58e3be4c",
   "metadata": {},
   "outputs": [],
   "source": [
    "input_text = []\n",
    "beliefs = []\n",
    "\n",
    "for text in train_text:\n",
    "    split_index = text.find('<|belief|>')  \n",
    "    input_text.append(text[:split_index-1].split())\n",
    "    beliefs.append(text[split_index:].split())"
   ]
  },
  {
   "cell_type": "code",
   "execution_count": 136,
   "id": "86ed757e-4ae0-42dd-88b9-7f59f4443537",
   "metadata": {},
   "outputs": [],
   "source": [
    "train_data = pd.DataFrame(data={'input_text': input_text, 'beliefs': beliefs})"
   ]
  },
  {
   "cell_type": "code",
   "execution_count": 60,
   "id": "2e664b86-cb76-46d2-970d-1bf406befc96",
   "metadata": {},
   "outputs": [],
   "source": [
    "class Lang:\n",
    "    def __init__(self, name):\n",
    "        self.name = name\n",
    "        self.word2index = {}\n",
    "        self.word2count = {}\n",
    "        self.index2word = {}\n",
    "        self.n_words = 0\n",
    "        \n",
    "    def addSentence(self, sentence):\n",
    "        for word in sentence.split(' '):\n",
    "            self.addWord(word)\n",
    "\n",
    "    def addWord(self, word):\n",
    "        if word not in self.word2index:\n",
    "            self.word2index[word] = self.n_words\n",
    "            self.word2count[word] = 1\n",
    "            self.index2word[self.n_words] = word\n",
    "            self.n_words += 1\n",
    "        else:\n",
    "            self.word2count[word] += 1"
   ]
  },
  {
   "cell_type": "code",
   "execution_count": 128,
   "id": "29e15cd9-b590-43fa-80b3-182d326f7431",
   "metadata": {},
   "outputs": [],
   "source": [
    "input_lang = Lang('input_lang')\n",
    "output_lang = Lang('output_lang')\n",
    "for word in raw_train_text.split():\n",
    "    input_lang.addWord(word)\n",
    "    output_lang.addWord(word)\n",
    "    \n",
    "input_lang.EOS = INPUT_EOS\n",
    "output_lang.EOS = OUTPUT_EOS"
   ]
  },
  {
   "cell_type": "code",
   "execution_count": 63,
   "id": "b26468c7-4903-470c-9add-ed93104a3912",
   "metadata": {},
   "outputs": [],
   "source": [
    "class EncoderRNN(nn.Module):\n",
    "    def __init__(self, input_size, hidden_size):\n",
    "        super(EncoderRNN, self).__init__()\n",
    "        self.hidden_size = hidden_size\n",
    "\n",
    "        self.embedding = nn.Embedding(input_size, hidden_size)\n",
    "        self.gru = nn.GRU(hidden_size, hidden_size)\n",
    "\n",
    "    def forward(self, input, hidden):\n",
    "        embedded = self.embedding(input).view(1, 1, -1)\n",
    "        output = embedded\n",
    "        output, hidden = self.gru(output, hidden)\n",
    "        return output, hidden\n",
    "\n",
    "    def initHidden(self):\n",
    "        return torch.zeros(1, 1, self.hidden_size, device=device)"
   ]
  },
  {
   "cell_type": "code",
   "execution_count": 64,
   "id": "b823675d-362f-4f50-94d9-f8ce1ab0591c",
   "metadata": {},
   "outputs": [],
   "source": [
    "class DecoderRNN(nn.Module):\n",
    "    def __init__(self, hidden_size, output_size):\n",
    "        super(DecoderRNN, self).__init__()\n",
    "        self.hidden_size = hidden_size\n",
    "\n",
    "        self.embedding = nn.Embedding(output_size, hidden_size)\n",
    "        self.gru = nn.GRU(hidden_size, hidden_size)\n",
    "        self.out = nn.Linear(hidden_size, output_size)\n",
    "        self.softmax = nn.LogSoftmax(dim=1)\n",
    "\n",
    "    def forward(self, input, hidden):\n",
    "        output = self.embedding(input).view(1, 1, -1)\n",
    "        output = F.relu(output)\n",
    "        output, hidden = self.gru(output, hidden)\n",
    "        output = self.softmax(self.out(output[0]))\n",
    "        return output, hidden\n",
    "\n",
    "    def initHidden(self):\n",
    "        return torch.zeros(1, 1, self.hidden_size, device=device)"
   ]
  },
  {
   "cell_type": "code",
   "execution_count": 67,
   "id": "58a41a8a-1555-4d4b-a2a5-547f5204efaa",
   "metadata": {},
   "outputs": [],
   "source": [
    "class AttnDecoderRNN(nn.Module):\n",
    "    def __init__(self, hidden_size, output_size, dropout_p=0.1, max_length=MAX_LENGTH):\n",
    "        super(AttnDecoderRNN, self).__init__()\n",
    "        self.hidden_size = hidden_size\n",
    "        self.output_size = output_size\n",
    "        self.dropout_p = dropout_p\n",
    "        self.max_length = max_length\n",
    "\n",
    "        self.embedding = nn.Embedding(self.output_size, self.hidden_size)\n",
    "        self.attn = nn.Linear(self.hidden_size * 2, self.max_length)\n",
    "        self.attn_combine = nn.Linear(self.hidden_size * 2, self.hidden_size)\n",
    "        self.dropout = nn.Dropout(self.dropout_p)\n",
    "        self.gru = nn.GRU(self.hidden_size, self.hidden_size)\n",
    "        self.out = nn.Linear(self.hidden_size, self.output_size)\n",
    "\n",
    "    def forward(self, input, hidden, encoder_outputs):\n",
    "        embedded = self.embedding(input).view(1, 1, -1)\n",
    "        embedded = self.dropout(embedded)\n",
    "\n",
    "        attn_weights = F.softmax(\n",
    "            self.attn(torch.cat((embedded[0], hidden[0]), 1)), dim=1)\n",
    "        attn_applied = torch.bmm(attn_weights.unsqueeze(0),\n",
    "                                 encoder_outputs.unsqueeze(0))\n",
    "\n",
    "        output = torch.cat((embedded[0], attn_applied[0]), 1)\n",
    "        output = self.attn_combine(output).unsqueeze(0)\n",
    "\n",
    "        output = F.relu(output)\n",
    "        output, hidden = self.gru(output, hidden)\n",
    "\n",
    "        output = F.log_softmax(self.out(output[0]), dim=1)\n",
    "        return output, hidden, attn_weights\n",
    "\n",
    "    def initHidden(self):\n",
    "        return torch.zeros(1, 1, self.hidden_size, device=device)"
   ]
  },
  {
   "cell_type": "code",
   "execution_count": 146,
   "id": "68f7600b-73bb-44e6-8e74-51363d175d12",
   "metadata": {},
   "outputs": [],
   "source": [
    "def indexesFromSentence(lang, sentence):\n",
    "    return [lang.word2index[word] for word in sentence]\n",
    "\n",
    "\n",
    "def tensorFromSentence(lang, sentence):\n",
    "    indexes = indexesFromSentence(lang, sentence)\n",
    "    indexes.append(lang.word2index[lang.EOS])\n",
    "    return torch.tensor(indexes, dtype=torch.long, device=device).view(-1, 1)\n",
    "\n",
    "\n",
    "def tensorsFromPair(pair):\n",
    "    input_tensor = tensorFromSentence(input_lang, pair[0])\n",
    "    target_tensor = tensorFromSentence(output_lang, pair[1])\n",
    "    return (input_tensor, target_tensor)"
   ]
  },
  {
   "cell_type": "code",
   "execution_count": 152,
   "id": "2213275e-935f-44bf-af67-12a18bb972af",
   "metadata": {},
   "outputs": [],
   "source": [
    "teacher_forcing_ratio = 0.5\n",
    "\n",
    "\n",
    "def train(input_tensor, target_tensor, encoder, decoder, encoder_optimizer, decoder_optimizer, criterion, max_length=MAX_LENGTH):\n",
    "    encoder_hidden = encoder.initHidden()\n",
    "\n",
    "    encoder_optimizer.zero_grad()\n",
    "    decoder_optimizer.zero_grad()\n",
    "\n",
    "    input_length = input_tensor.size(0)\n",
    "    target_length = target_tensor.size(0)\n",
    "\n",
    "    encoder_outputs = torch.zeros(max_length, encoder.hidden_size, device=device)\n",
    "\n",
    "    loss = 0\n",
    "\n",
    "    for ei in range(input_length):\n",
    "        encoder_output, encoder_hidden = encoder(\n",
    "            input_tensor[ei], encoder_hidden)\n",
    "        encoder_outputs[ei] = encoder_output[0, 0]\n",
    "\n",
    "    decoder_input = torch.tensor([[output_lang.word2index[OUTPUT_SOS]]], device=device)\n",
    "\n",
    "    decoder_hidden = encoder_hidden\n",
    "\n",
    "    use_teacher_forcing = True if random.random() < teacher_forcing_ratio else False\n",
    "\n",
    "    if use_teacher_forcing:\n",
    "        # Teacher forcing: Feed the target as the next input\n",
    "        for di in range(target_length):\n",
    "            decoder_output, decoder_hidden, decoder_attention = decoder(\n",
    "                decoder_input, decoder_hidden, encoder_outputs)\n",
    "            loss += criterion(decoder_output, target_tensor[di])\n",
    "            decoder_input = target_tensor[di]  # Teacher forcing\n",
    "\n",
    "    else:\n",
    "        # Without teacher forcing: use its own predictions as the next input\n",
    "        for di in range(target_length):\n",
    "            decoder_output, decoder_hidden, decoder_attention = decoder(\n",
    "                decoder_input, decoder_hidden, encoder_outputs)\n",
    "            topv, topi = decoder_output.topk(1)\n",
    "            decoder_input = topi.squeeze().detach()  # detach from history as input\n",
    "\n",
    "            loss += criterion(decoder_output, target_tensor[di])\n",
    "            if decoder_input.item() == output_lang.word2index[OUTPUT_EOS]:\n",
    "                break\n",
    "\n",
    "    loss.backward()\n",
    "\n",
    "    encoder_optimizer.step()\n",
    "    decoder_optimizer.step()\n",
    "\n",
    "    return loss.item() / target_length"
   ]
  },
  {
   "cell_type": "code",
   "execution_count": 73,
   "id": "86e10149-e2c8-47ea-ace3-f37e5ce61d52",
   "metadata": {},
   "outputs": [],
   "source": [
    "import time\n",
    "import math\n",
    "\n",
    "\n",
    "def asMinutes(s):\n",
    "    m = math.floor(s / 60)\n",
    "    s -= m * 60\n",
    "    return '%dm %ds' % (m, s)\n",
    "\n",
    "\n",
    "def timeSince(since, percent):\n",
    "    now = time.time()\n",
    "    s = now - since\n",
    "    es = s / (percent)\n",
    "    rs = es - s\n",
    "    return '%s (- %s)' % (asMinutes(s), asMinutes(rs))"
   ]
  },
  {
   "cell_type": "code",
   "execution_count": 143,
   "id": "2deb16be-98ad-45b2-8f7f-2d96eb934ab6",
   "metadata": {},
   "outputs": [],
   "source": [
    "train_tuples = [t[1:] for t in train_data.itertuples()]"
   ]
  },
  {
   "cell_type": "code",
   "execution_count": 148,
   "id": "15dfcd6a-ebdd-4f5e-aaf2-38871667b408",
   "metadata": {},
   "outputs": [],
   "source": [
    "def trainIters(encoder, decoder, n_iters, print_every=1000, plot_every=100, learning_rate=0.01):\n",
    "    start = time.time()\n",
    "    plot_losses = []\n",
    "    print_loss_total = 0  # Reset every print_every\n",
    "    plot_loss_total = 0  # Reset every plot_every\n",
    "\n",
    "    encoder_optimizer = optim.SGD(encoder.parameters(), lr=learning_rate)\n",
    "    decoder_optimizer = optim.SGD(decoder.parameters(), lr=learning_rate)\n",
    "    training_pairs = [tensorsFromPair(random.choice(train_tuples))\n",
    "                      for i in range(n_iters)]\n",
    "    criterion = nn.NLLLoss()\n",
    "\n",
    "    for iter in range(1, n_iters + 1):\n",
    "        training_pair = training_pairs[iter - 1]\n",
    "        input_tensor = training_pair[0]\n",
    "        target_tensor = training_pair[1]\n",
    "\n",
    "        loss = train(input_tensor, target_tensor, encoder,\n",
    "                     decoder, encoder_optimizer, decoder_optimizer, criterion)\n",
    "        print_loss_total += loss\n",
    "        plot_loss_total += loss\n",
    "\n",
    "        if iter % print_every == 0:\n",
    "            print_loss_avg = print_loss_total / print_every\n",
    "            print_loss_total = 0\n",
    "            print('%s (%d %d%%) %.4f' % (timeSince(start, iter / n_iters),\n",
    "                                         iter, iter / n_iters * 100, print_loss_avg))\n",
    "\n",
    "        if iter % plot_every == 0:\n",
    "            plot_loss_avg = plot_loss_total / plot_every\n",
    "            plot_losses.append(plot_loss_avg)\n",
    "            plot_loss_total = 0\n",
    "\n",
    "    showPlot(plot_losses)"
   ]
  },
  {
   "cell_type": "code",
   "execution_count": 84,
   "id": "b2fc3484-e6e1-4f94-b73e-0221ef6b7b3e",
   "metadata": {},
   "outputs": [],
   "source": [
    "import matplotlib.pyplot as plt\n",
    "plt.switch_backend('agg')\n",
    "import matplotlib.ticker as ticker\n",
    "import numpy as np\n",
    "\n",
    "\n",
    "def showPlot(points):\n",
    "    plt.figure()\n",
    "    fig, ax = plt.subplots()\n",
    "    # this locator puts ticks at regular intervals\n",
    "    loc = ticker.MultipleLocator(base=0.2)\n",
    "    ax.yaxis.set_major_locator(loc)\n",
    "    plt.plot(points)"
   ]
  },
  {
   "cell_type": "code",
   "execution_count": 151,
   "id": "8e10a8c7-7105-4e9a-9005-a625521a328b",
   "metadata": {
    "tags": []
   },
   "outputs": [],
   "source": [
    "def evaluate(encoder, decoder, sentence, max_length=MAX_LENGTH):\n",
    "    with torch.no_grad():\n",
    "        input_tensor = tensorFromSentence(input_lang, sentence)\n",
    "        input_length = input_tensor.size()[0]\n",
    "        encoder_hidden = encoder.initHidden()\n",
    "\n",
    "        encoder_outputs = torch.zeros(max_length, encoder.hidden_size, device=device)\n",
    "\n",
    "        for ei in range(input_length):\n",
    "            encoder_output, encoder_hidden = encoder(input_tensor[ei],\n",
    "                                                     encoder_hidden)\n",
    "            encoder_outputs[ei] += encoder_output[0, 0]\n",
    "\n",
    "        decoder_input = torch.tensor([[output_lang.word2index[OUTPUT_SOS]]], device=device)  # SOS\n",
    "\n",
    "        decoder_hidden = encoder_hidden\n",
    "\n",
    "        decoded_words = []\n",
    "        decoder_attentions = torch.zeros(max_length, max_length)\n",
    "\n",
    "        for di in range(max_length):\n",
    "            decoder_output, decoder_hidden, decoder_attention = decoder(\n",
    "                decoder_input, decoder_hidden, encoder_outputs)\n",
    "            decoder_attentions[di] = decoder_attention.data\n",
    "            topv, topi = decoder_output.data.topk(1)\n",
    "            if topi.item() == output_lang.word2index[OUTPUT_EOS]:\n",
    "                decoded_words.append(output_lang.word2index[OUTPUT_EOS])\n",
    "                break\n",
    "            else:\n",
    "                decoded_words.append(output_lang.index2word[topi.item()])\n",
    "\n",
    "            decoder_input = topi.squeeze().detach()\n",
    "\n",
    "        return decoded_words, decoder_attentions[:di + 1]"
   ]
  },
  {
   "cell_type": "code",
   "execution_count": 137,
   "id": "b0d01e29-1123-460a-bbe7-f0de966a9c26",
   "metadata": {},
   "outputs": [],
   "source": [
    "with open('../resources/gpt2/val.history_belief') as fp:\n",
    "    raw_val_text = fp.read()"
   ]
  },
  {
   "cell_type": "code",
   "execution_count": 138,
   "id": "194fa456-fd15-4d9e-93ec-cb9f0a40b53d",
   "metadata": {},
   "outputs": [],
   "source": [
    "raw_val_text = raw_val_text.replace('<|endofcontext|>', ' <|endofcontext|>')\n",
    "raw_val_text = raw_val_text.replace('<|endoftext|>', '')"
   ]
  },
  {
   "cell_type": "code",
   "execution_count": 139,
   "id": "ca4a421e-f0d4-4426-b2eb-86c0b5ebbefd",
   "metadata": {},
   "outputs": [],
   "source": [
    "val_text = raw_val_text.split('\\n')"
   ]
  },
  {
   "cell_type": "code",
   "execution_count": 140,
   "id": "5160c21c-492c-4935-be54-9c917c584bb6",
   "metadata": {},
   "outputs": [],
   "source": [
    "input_text = []\n",
    "beliefs = []\n",
    "\n",
    "for text in val_text:\n",
    "    split_index = text.find('<|belief|>')  \n",
    "    input_text.append(text[:split_index-1].split())\n",
    "    beliefs.append(text[split_index:].split())"
   ]
  },
  {
   "cell_type": "code",
   "execution_count": 141,
   "id": "f06d217e-34ed-4176-95ea-8cdf1ccce3b1",
   "metadata": {},
   "outputs": [],
   "source": [
    "val_data = pd.DataFrame(data={'input_text': input_text, 'beliefs': beliefs})"
   ]
  },
  {
   "cell_type": "code",
   "execution_count": 142,
   "id": "ef48f626-9c65-4258-a8a8-49cf1af24164",
   "metadata": {},
   "outputs": [],
   "source": [
    "val_tuples = [t[1:] for t in val_data.itertuples()]"
   ]
  },
  {
   "cell_type": "code",
   "execution_count": 119,
   "id": "f2247c49-fe5c-46ed-ba8c-55f599b91839",
   "metadata": {},
   "outputs": [],
   "source": [
    "def evaluateRandomly(encoder, decoder, n=10):\n",
    "    for i in range(n):\n",
    "        pair = random.choice(val_tuples)\n",
    "        print('>', pair[0])\n",
    "        print('=', pair[1])\n",
    "        output_words, attentions = evaluate(encoder, decoder, pair[0])\n",
    "        output_sentence = ' '.join(output_words)\n",
    "        print('<', output_sentence)\n",
    "        print('')"
   ]
  },
  {
   "cell_type": "code",
   "execution_count": 120,
   "id": "54de73e8-996b-4690-b339-4798e9eee514",
   "metadata": {},
   "outputs": [],
   "source": [
    "device = None"
   ]
  },
  {
   "cell_type": "code",
   "execution_count": 160,
   "id": "3ebd4dbc-92c4-4401-a911-f55214752132",
   "metadata": {},
   "outputs": [
    {
     "name": "stdout",
     "output_type": "stream",
     "text": [
      "0m 0s (- 0m 7s) (10 10%) 9.7230\n",
      "0m 1s (- 0m 7s) (20 20%) 9.3331\n",
      "0m 2s (- 0m 6s) (30 30%) 8.6520\n",
      "0m 3s (- 0m 5s) (40 40%) 7.9740\n",
      "0m 4s (- 0m 4s) (50 50%) 7.1566\n",
      "0m 5s (- 0m 3s) (60 60%) 6.6511\n",
      "0m 6s (- 0m 2s) (70 70%) 5.8594\n",
      "0m 7s (- 0m 1s) (80 80%) 5.7120\n",
      "0m 8s (- 0m 0s) (90 90%) 5.8246\n",
      "0m 10s (- 0m 0s) (100 100%) 5.2826\n"
     ]
    }
   ],
   "source": [
    "hidden_size = 4\n",
    "encoder1 = EncoderRNN(input_lang.n_words, hidden_size).to(device)\n",
    "attn_decoder1 = AttnDecoderRNN(hidden_size, output_lang.n_words, dropout_p=0.1).to(device)\n",
    "\n",
    "trainIters(encoder1, attn_decoder1, 100, print_every=10)"
   ]
  },
  {
   "cell_type": "code",
   "execution_count": 161,
   "id": "f2f74a09-0b4a-485f-ae18-7f5894b011a1",
   "metadata": {},
   "outputs": [
    {
     "name": "stdout",
     "output_type": "stream",
     "text": [
      "> ['<|context|>', '<|user|>', 'good', 'morning', ',', 'i', 'am', 'looking', 'for', 'some', 'information', 'in', 'cambridge', '.', 'can', 'you', 'help', 'me', '?', '<|system|>', 'sure', 'thing', '.', 'what', 'type', 'of', 'information', 'are', 'you', 'looking', 'for', '?', '<|user|>', 'can', 'you', 'tell', 'me', 'about', 'the', 'museums', 'in', 'the', 'center', 'of', 'town', '?', '<|system|>', 'there', 'are', '11', 'in', 'the', 'centre', 'of', 'town', ',', 'how', 'about', 'the', 'castle', 'galleries', '?', '<|user|>', 'what', 's', 'the', 'entrance', 'fee', 'for', 'castle', 'galleries', '?', '<|system|>', 'it', 'is', 'free', 'to', 'enter', '!', 'enjoy', 'yourself', '!', '<|user|>', 'could', 'i', 'get', 'the', 'phone', 'number', 'and', 'postcode', 'as', 'well', '?', '<|system|>', 'of', 'course', '.', 'the', 'postal', 'code', 'is', 'cb23bj', ',', 'and', 'the', 'phone', 'number', 'is', '01223307402', '.', 'anything', 'else', 'you', 'need', 'today', '?', '<|user|>', 'yes', ',', 'i', 'would', 'like', 'to', 'book', '5', 'nights', 'at', 'the', 'leverton', 'house', '.', '<|system|>', 'absolutely', '!', 'what', 'day', 'will', 'you', 'arrive', '?', '<|user|>', 'starting', 'sunday', '.', 'need', '7', 'people', 'by', 'the', 'way', '.', '<|endofcontext|>']\n",
      "= ['<|belief|>', 'hospital', 'department', 'not', 'mentioned', ',', 'hotel', 'name', 'leverton', 'house', ',', 'hotel', 'area', 'not', 'mentioned', ',', 'hotel', 'parking', 'not', 'mentioned', ',', 'hotel', 'pricerange', 'not', 'mentioned', ',', 'hotel', 'stars', 'not', 'mentioned', ',', 'hotel', 'internet', 'not', 'mentioned', ',', 'hotel', 'type', 'not', 'mentioned', ',', 'hotel', 'book', 'stay', '5', ',', 'hotel', 'book', 'day', 'sunday', ',', 'hotel', 'book', 'people', '7', ',', 'attraction', 'type', 'museum', ',', 'attraction', 'name', 'castle', 'galleries', ',', 'attraction', 'area', 'centre', '<|endofbelief|>']\n",
      "< , , , , , , , , , , , , , , , , , , , , , , , , , , , , , , , , , , , , , , , , , , , , , , , , , , , , , , , , , , , , , , , , , , , , , , , , , , , , , , , , , , , , , , , , , , , , , , , , , , , , , , , , , , , , , , , , , , , , , , , , , , , , , , , , , , , , , , , , , , , , , , , , , , , , , , , , , , , , , , , , , , , , , , , , , , , , , , , , , , , , , , , , , , , , , , , , , , , , , , , , , , , , , , , , , , , , , , , , , , , , , , , , , , , , , , , , , , , , , , , , , , , , , , , , , , , , , , , , , , , , , , , , , , , , , , , , , , , , , , , , , , , , , , , , , , , , , , , , , , , , , , , , , , , , , , , , , , , , , , , , , , , , , , , , , , , , , , , , , , , , , , , , , , , , , , , , , , , , , , , , , , , , , , , , , , , , , , , , , , , , , , , , , , , , , , , , , , , , , , , , , , , , , , , , , , , , , , , , , , , , , , , , , , , , , , , , , , , , , , , , , , , , , , , , , , , , , , , , , , , , , , , , , , , , , , , , , , , , , , , , , , , , , , , , , , , , , , , , , , , , , , , , , , , , , , , , , , , , , , , , , , , , , , , , , , , , , , , , , , , , , , , , , , , , , , , , , , , , , , , , , , , , , , , , , , , , , , , , , , , , , , , , , , , , , , , , , , , , , , , , , , , , , , , , , , , , , , , , , , , , , , , , , , , , , , , , , , , , , , , , , , , , , , , , , , , , , , , , , , , , , , , , , , , , , , , , , , , , , , , , , , , , , , , , , , , , , , , , , , , , , , , , , , , , , , , , , , , , , , , , , , , , , , , , , , , , , , , , , , , , , , , , , , , , , , , , , , , , , , , , , , , , , , , , , , , , , , , , , , , , , , , , , , , , , , , , , , , , , , , , , , , , , , , , , , , , , , , , , , , , , , , , , , , , , , , , , , , , , , , , , , , , , , , , , , , , , , , , , , , , , , , , , , , , , , , , , , , , , , , , , , , , , , , , , , , , , , , , , , , , , , , , , , , , , , , , , , , , , , , , , , , , , , , , , , , , , , , , , , , , , , , , , , , , , , , , , , , , , , , , , , , , , , , , , , , , , , , , , , , , , , , , , , , , , , , , , , , , , , , , , , , , , , , , , , , , , , , , , , , , , , , ,\n",
      "\n",
      "> ['<|context|>', '<|user|>', 'i', 'am', 'looking', 'for', 'a', 'restaurant', 'that', 'serves', 'asian', 'oriental', 'food', 'located', 'in', 'the', 'south', '.', 'can', 'you', 'help', '?', '<|system|>', 'there', 'are', 'no', 'asian', 'oriental', 'restaurant', '-s', 'in', 'the', 'south', '.', 'would', 'you', 'like', 'me', 'to', 'try', 'another', 'area', '?', '<|user|>', 'what', 'is', 'the', 'closest', 'asian', 'restaurant', 'that', 'is', 'cheap', '?', '<|system|>', 'i', 'do', 'not', 'have', 'anything', 'that', 'is', 'cheap', 'in', 'the', 'south', '.', 'can', 'i', 'try', 'something', 'else', '?', '<|user|>', 'can', 'you', 'try', 'a', 'chinese', 'restaurant', 'in', 'the', 'same', 'price', 'range', 'and', 'area', '?', '<|system|>', 'i', 'have', 'the', 'lucky', 'star', '.', 'would', 'you', 'like', 'me', 'to', 'make', 'a', 'booking', 'for', 'you', '?', '<|user|>', 'yes', ',', 'please', ',', 'for', '5', 'at', '18:45', 'on', 'saturday', '.', '<|system|>', 'i', 'was', 'able', 'to', 'book', 'your', 'table', 'for', '5', 'on', 'saturday', '.', 'the', 'reference', 'number', 'is', ':', 'caqb4i7n', '.', '<|user|>', 'thanks', '.', 'i', 'also', 'want', 'a', 'train', 'that', 'departs', 'from', 'london', 'kings', 'cross', '<|system|>', 'okay', ',', 'where', 'is', 'your', 'destination', '?', '<|user|>', 'i', 'need', 'it', 'to', 'go', 'to', 'cambridge', 'and', 'arrive', 'by', '15:00', '.', '<|system|>', 'what', 'day', 'do', 'you', 'need', 'to', 'book', 'the', 'train', 'for', '?', '<|user|>', 'tomorrow', 'if', 'it', 'is', 'available', '<|system|>', 'tomorrow', ',', 'as', 'in', 'sunday', '?', '<|user|>', 'i', 'want', 'to', 'book', 'it', 'for', 'the', 'same', 'day', 'as', 'the', 'restaurant', 'and', 'the', 'same', 'party', '.', '<|system|>', 'i', 'successfully', 'booked', 'your', '5', 'tickets', 'for', 'sunday', ',', 'the', 'total', 'fee', 'is', '94.4', 'gbp', 'payable', 'at', 'the', 'station', 'and', 'the', 'reference', 'number', 'is', ':', 'n30iqyxx', '.', '<|user|>', 'that', 'is', 'all', 'i', 'need', 'today', '.', 'thanks', 'for', 'helping', '<|endofcontext|>']\n",
      "= ['<|belief|>', 'taxi', 'leaveat', 'not', 'mentioned', ',', 'taxi', 'destination', 'cambridge', ',', 'taxi', 'departure', 'london', 'kings', 'cross', 'train', 'station', ',', 'taxi', 'arriveby', '15:00', ',', 'restaurant', 'food', 'chinese', ',', 'restaurant', 'pricerange', 'cheap', ',', 'restaurant', 'name', 'the', 'lucky', 'star', ',', 'restaurant', 'area', 'south', ',', 'restaurant', 'book', 'people', '5', ',', 'restaurant', 'book', 'day', 'saturday', ',', 'restaurant', 'book', 'time', '18:45', ',', 'train', 'leaveat', 'not', 'mentioned', ',', 'train', 'destination', 'cambridge', ',', 'train', 'day', 'saturday', ',', 'train', 'arriveby', '15:00', ',', 'train', 'departure', 'london', 'kings', 'cross', ',', 'train', 'book', 'people', '5', '<|endofbelief|>']\n"
     ]
    },
    {
     "ename": "KeyError",
     "evalue": "'caqb4i7n'",
     "output_type": "error",
     "traceback": [
      "\u001b[0;31m---------------------------------------------------------------------------\u001b[0m",
      "\u001b[0;31mKeyError\u001b[0m                                  Traceback (most recent call last)",
      "\u001b[0;32m<ipython-input-161-752866089bea>\u001b[0m in \u001b[0;36m<module>\u001b[0;34m\u001b[0m\n\u001b[0;32m----> 1\u001b[0;31m \u001b[0mevaluateRandomly\u001b[0m\u001b[0;34m(\u001b[0m\u001b[0mencoder1\u001b[0m\u001b[0;34m,\u001b[0m \u001b[0mattn_decoder1\u001b[0m\u001b[0;34m)\u001b[0m\u001b[0;34m\u001b[0m\u001b[0m\n\u001b[0m",
      "\u001b[0;32m<ipython-input-119-4819f6bedacd>\u001b[0m in \u001b[0;36mevaluateRandomly\u001b[0;34m(encoder, decoder, n)\u001b[0m\n\u001b[1;32m      4\u001b[0m         \u001b[0mprint\u001b[0m\u001b[0;34m(\u001b[0m\u001b[0;34m'>'\u001b[0m\u001b[0;34m,\u001b[0m \u001b[0mpair\u001b[0m\u001b[0;34m[\u001b[0m\u001b[0;36m0\u001b[0m\u001b[0;34m]\u001b[0m\u001b[0;34m)\u001b[0m\u001b[0;34m\u001b[0m\u001b[0m\n\u001b[1;32m      5\u001b[0m         \u001b[0mprint\u001b[0m\u001b[0;34m(\u001b[0m\u001b[0;34m'='\u001b[0m\u001b[0;34m,\u001b[0m \u001b[0mpair\u001b[0m\u001b[0;34m[\u001b[0m\u001b[0;36m1\u001b[0m\u001b[0;34m]\u001b[0m\u001b[0;34m)\u001b[0m\u001b[0;34m\u001b[0m\u001b[0m\n\u001b[0;32m----> 6\u001b[0;31m         \u001b[0moutput_words\u001b[0m\u001b[0;34m,\u001b[0m \u001b[0mattentions\u001b[0m \u001b[0;34m=\u001b[0m \u001b[0mevaluate\u001b[0m\u001b[0;34m(\u001b[0m\u001b[0mencoder\u001b[0m\u001b[0;34m,\u001b[0m \u001b[0mdecoder\u001b[0m\u001b[0;34m,\u001b[0m \u001b[0mpair\u001b[0m\u001b[0;34m[\u001b[0m\u001b[0;36m0\u001b[0m\u001b[0;34m]\u001b[0m\u001b[0;34m)\u001b[0m\u001b[0;34m\u001b[0m\u001b[0m\n\u001b[0m\u001b[1;32m      7\u001b[0m         \u001b[0moutput_sentence\u001b[0m \u001b[0;34m=\u001b[0m \u001b[0;34m' '\u001b[0m\u001b[0;34m.\u001b[0m\u001b[0mjoin\u001b[0m\u001b[0;34m(\u001b[0m\u001b[0moutput_words\u001b[0m\u001b[0;34m)\u001b[0m\u001b[0;34m\u001b[0m\u001b[0m\n\u001b[1;32m      8\u001b[0m         \u001b[0mprint\u001b[0m\u001b[0;34m(\u001b[0m\u001b[0;34m'<'\u001b[0m\u001b[0;34m,\u001b[0m \u001b[0moutput_sentence\u001b[0m\u001b[0;34m)\u001b[0m\u001b[0;34m\u001b[0m\u001b[0m\n",
      "\u001b[0;32m<ipython-input-151-dcd2a24e7589>\u001b[0m in \u001b[0;36mevaluate\u001b[0;34m(encoder, decoder, sentence, max_length)\u001b[0m\n\u001b[1;32m      1\u001b[0m \u001b[0;32mdef\u001b[0m \u001b[0mevaluate\u001b[0m\u001b[0;34m(\u001b[0m\u001b[0mencoder\u001b[0m\u001b[0;34m,\u001b[0m \u001b[0mdecoder\u001b[0m\u001b[0;34m,\u001b[0m \u001b[0msentence\u001b[0m\u001b[0;34m,\u001b[0m \u001b[0mmax_length\u001b[0m\u001b[0;34m=\u001b[0m\u001b[0mMAX_LENGTH\u001b[0m\u001b[0;34m)\u001b[0m\u001b[0;34m:\u001b[0m\u001b[0;34m\u001b[0m\u001b[0m\n\u001b[1;32m      2\u001b[0m     \u001b[0;32mwith\u001b[0m \u001b[0mtorch\u001b[0m\u001b[0;34m.\u001b[0m\u001b[0mno_grad\u001b[0m\u001b[0;34m(\u001b[0m\u001b[0;34m)\u001b[0m\u001b[0;34m:\u001b[0m\u001b[0;34m\u001b[0m\u001b[0m\n\u001b[0;32m----> 3\u001b[0;31m         \u001b[0minput_tensor\u001b[0m \u001b[0;34m=\u001b[0m \u001b[0mtensorFromSentence\u001b[0m\u001b[0;34m(\u001b[0m\u001b[0minput_lang\u001b[0m\u001b[0;34m,\u001b[0m \u001b[0msentence\u001b[0m\u001b[0;34m)\u001b[0m\u001b[0;34m\u001b[0m\u001b[0m\n\u001b[0m\u001b[1;32m      4\u001b[0m         \u001b[0minput_length\u001b[0m \u001b[0;34m=\u001b[0m \u001b[0minput_tensor\u001b[0m\u001b[0;34m.\u001b[0m\u001b[0msize\u001b[0m\u001b[0;34m(\u001b[0m\u001b[0;34m)\u001b[0m\u001b[0;34m[\u001b[0m\u001b[0;36m0\u001b[0m\u001b[0;34m]\u001b[0m\u001b[0;34m\u001b[0m\u001b[0m\n\u001b[1;32m      5\u001b[0m         \u001b[0mencoder_hidden\u001b[0m \u001b[0;34m=\u001b[0m \u001b[0mencoder\u001b[0m\u001b[0;34m.\u001b[0m\u001b[0minitHidden\u001b[0m\u001b[0;34m(\u001b[0m\u001b[0;34m)\u001b[0m\u001b[0;34m\u001b[0m\u001b[0m\n",
      "\u001b[0;32m<ipython-input-146-33b47894f0bb>\u001b[0m in \u001b[0;36mtensorFromSentence\u001b[0;34m(lang, sentence)\u001b[0m\n\u001b[1;32m      4\u001b[0m \u001b[0;34m\u001b[0m\u001b[0m\n\u001b[1;32m      5\u001b[0m \u001b[0;32mdef\u001b[0m \u001b[0mtensorFromSentence\u001b[0m\u001b[0;34m(\u001b[0m\u001b[0mlang\u001b[0m\u001b[0;34m,\u001b[0m \u001b[0msentence\u001b[0m\u001b[0;34m)\u001b[0m\u001b[0;34m:\u001b[0m\u001b[0;34m\u001b[0m\u001b[0m\n\u001b[0;32m----> 6\u001b[0;31m     \u001b[0mindexes\u001b[0m \u001b[0;34m=\u001b[0m \u001b[0mindexesFromSentence\u001b[0m\u001b[0;34m(\u001b[0m\u001b[0mlang\u001b[0m\u001b[0;34m,\u001b[0m \u001b[0msentence\u001b[0m\u001b[0;34m)\u001b[0m\u001b[0;34m\u001b[0m\u001b[0m\n\u001b[0m\u001b[1;32m      7\u001b[0m     \u001b[0mindexes\u001b[0m\u001b[0;34m.\u001b[0m\u001b[0mappend\u001b[0m\u001b[0;34m(\u001b[0m\u001b[0mlang\u001b[0m\u001b[0;34m.\u001b[0m\u001b[0mword2index\u001b[0m\u001b[0;34m[\u001b[0m\u001b[0mlang\u001b[0m\u001b[0;34m.\u001b[0m\u001b[0mEOS\u001b[0m\u001b[0;34m]\u001b[0m\u001b[0;34m)\u001b[0m\u001b[0;34m\u001b[0m\u001b[0m\n\u001b[1;32m      8\u001b[0m     \u001b[0;32mreturn\u001b[0m \u001b[0mtorch\u001b[0m\u001b[0;34m.\u001b[0m\u001b[0mtensor\u001b[0m\u001b[0;34m(\u001b[0m\u001b[0mindexes\u001b[0m\u001b[0;34m,\u001b[0m \u001b[0mdtype\u001b[0m\u001b[0;34m=\u001b[0m\u001b[0mtorch\u001b[0m\u001b[0;34m.\u001b[0m\u001b[0mlong\u001b[0m\u001b[0;34m,\u001b[0m \u001b[0mdevice\u001b[0m\u001b[0;34m=\u001b[0m\u001b[0mdevice\u001b[0m\u001b[0;34m)\u001b[0m\u001b[0;34m.\u001b[0m\u001b[0mview\u001b[0m\u001b[0;34m(\u001b[0m\u001b[0;34m-\u001b[0m\u001b[0;36m1\u001b[0m\u001b[0;34m,\u001b[0m \u001b[0;36m1\u001b[0m\u001b[0;34m)\u001b[0m\u001b[0;34m\u001b[0m\u001b[0m\n",
      "\u001b[0;32m<ipython-input-146-33b47894f0bb>\u001b[0m in \u001b[0;36mindexesFromSentence\u001b[0;34m(lang, sentence)\u001b[0m\n\u001b[1;32m      1\u001b[0m \u001b[0;32mdef\u001b[0m \u001b[0mindexesFromSentence\u001b[0m\u001b[0;34m(\u001b[0m\u001b[0mlang\u001b[0m\u001b[0;34m,\u001b[0m \u001b[0msentence\u001b[0m\u001b[0;34m)\u001b[0m\u001b[0;34m:\u001b[0m\u001b[0;34m\u001b[0m\u001b[0m\n\u001b[0;32m----> 2\u001b[0;31m     \u001b[0;32mreturn\u001b[0m \u001b[0;34m[\u001b[0m\u001b[0mlang\u001b[0m\u001b[0;34m.\u001b[0m\u001b[0mword2index\u001b[0m\u001b[0;34m[\u001b[0m\u001b[0mword\u001b[0m\u001b[0;34m]\u001b[0m \u001b[0;32mfor\u001b[0m \u001b[0mword\u001b[0m \u001b[0;32min\u001b[0m \u001b[0msentence\u001b[0m\u001b[0;34m]\u001b[0m\u001b[0;34m\u001b[0m\u001b[0m\n\u001b[0m\u001b[1;32m      3\u001b[0m \u001b[0;34m\u001b[0m\u001b[0m\n\u001b[1;32m      4\u001b[0m \u001b[0;34m\u001b[0m\u001b[0m\n\u001b[1;32m      5\u001b[0m \u001b[0;32mdef\u001b[0m \u001b[0mtensorFromSentence\u001b[0m\u001b[0;34m(\u001b[0m\u001b[0mlang\u001b[0m\u001b[0;34m,\u001b[0m \u001b[0msentence\u001b[0m\u001b[0;34m)\u001b[0m\u001b[0;34m:\u001b[0m\u001b[0;34m\u001b[0m\u001b[0m\n",
      "\u001b[0;32m<ipython-input-146-33b47894f0bb>\u001b[0m in \u001b[0;36m<listcomp>\u001b[0;34m(.0)\u001b[0m\n\u001b[1;32m      1\u001b[0m \u001b[0;32mdef\u001b[0m \u001b[0mindexesFromSentence\u001b[0m\u001b[0;34m(\u001b[0m\u001b[0mlang\u001b[0m\u001b[0;34m,\u001b[0m \u001b[0msentence\u001b[0m\u001b[0;34m)\u001b[0m\u001b[0;34m:\u001b[0m\u001b[0;34m\u001b[0m\u001b[0m\n\u001b[0;32m----> 2\u001b[0;31m     \u001b[0;32mreturn\u001b[0m \u001b[0;34m[\u001b[0m\u001b[0mlang\u001b[0m\u001b[0;34m.\u001b[0m\u001b[0mword2index\u001b[0m\u001b[0;34m[\u001b[0m\u001b[0mword\u001b[0m\u001b[0;34m]\u001b[0m \u001b[0;32mfor\u001b[0m \u001b[0mword\u001b[0m \u001b[0;32min\u001b[0m \u001b[0msentence\u001b[0m\u001b[0;34m]\u001b[0m\u001b[0;34m\u001b[0m\u001b[0m\n\u001b[0m\u001b[1;32m      3\u001b[0m \u001b[0;34m\u001b[0m\u001b[0m\n\u001b[1;32m      4\u001b[0m \u001b[0;34m\u001b[0m\u001b[0m\n\u001b[1;32m      5\u001b[0m \u001b[0;32mdef\u001b[0m \u001b[0mtensorFromSentence\u001b[0m\u001b[0;34m(\u001b[0m\u001b[0mlang\u001b[0m\u001b[0;34m,\u001b[0m \u001b[0msentence\u001b[0m\u001b[0;34m)\u001b[0m\u001b[0;34m:\u001b[0m\u001b[0;34m\u001b[0m\u001b[0m\n",
      "\u001b[0;31mKeyError\u001b[0m: 'caqb4i7n'"
     ]
    }
   ],
   "source": [
    "evaluateRandomly(encoder1, attn_decoder1)"
   ]
  },
  {
   "cell_type": "code",
   "execution_count": null,
   "id": "7a176033-ba5d-4ca7-a773-61b8cad09492",
   "metadata": {},
   "outputs": [],
   "source": []
  },
  {
   "cell_type": "code",
   "execution_count": null,
   "id": "aaf31f0e-d2b7-49ce-84d2-116df6dec087",
   "metadata": {},
   "outputs": [],
   "source": []
  },
  {
   "cell_type": "code",
   "execution_count": null,
   "id": "f2786954-b4c8-4006-be29-d713eb2fcb3d",
   "metadata": {},
   "outputs": [],
   "source": []
  }
 ],
 "metadata": {
  "kernelspec": {
   "display_name": "NLP220",
   "language": "python",
   "name": "nlp220"
  },
  "language_info": {
   "codemirror_mode": {
    "name": "ipython",
    "version": 3
   },
   "file_extension": ".py",
   "mimetype": "text/x-python",
   "name": "python",
   "nbconvert_exporter": "python",
   "pygments_lexer": "ipython3",
   "version": "3.6.2"
  }
 },
 "nbformat": 4,
 "nbformat_minor": 5
}
